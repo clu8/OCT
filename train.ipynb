{
 "cells": [
  {
   "cell_type": "code",
   "execution_count": 1,
   "metadata": {},
   "outputs": [],
   "source": [
    "%matplotlib inline\n",
    "\n",
    "import os\n",
    "\n",
    "import matplotlib.pyplot as plt\n",
    "import numpy as np\n",
    "from PIL import Image\n",
    "import scipy.ndimage as ndimage\n",
    "import torch\n",
    "\n",
    "from torch.autograd import Variable\n",
    "from torch.utils.data import Dataset, DataLoader\n",
    "import torchvision.transforms as T\n",
    "\n",
    "from model import OctNet"
   ]
  },
  {
   "cell_type": "code",
   "execution_count": 2,
   "metadata": {},
   "outputs": [],
   "source": [
    "PROCESSED_DATA_PATH = '../oct-data/data-1'"
   ]
  },
  {
   "cell_type": "code",
   "execution_count": 3,
   "metadata": {},
   "outputs": [],
   "source": [
    "class OctDataset(Dataset):\n",
    "    def __init__(self):\n",
    "        pos_dir = os.path.join(PROCESSED_DATA_PATH, 'pos')\n",
    "        pos_paths = [os.path.join(pos_dir, f) for f in os.listdir(pos_dir)]\n",
    "        \n",
    "        neg_dir = os.path.join(PROCESSED_DATA_PATH, 'neg')\n",
    "        neg_paths = [os.path.join(neg_dir, f) for f in os.listdir(neg_dir)]\n",
    "        \n",
    "        self.cube_paths = pos_paths + neg_paths\n",
    "        self.labels = [1] * len(pos_paths) + [0] * len(neg_paths)\n",
    "        \n",
    "        self.transforms = T.Compose([\n",
    "            T.Resize([200, 200]),\n",
    "            T.ToTensor()\n",
    "        ])\n",
    "        \n",
    "        assert len(self.labels) == len(self.cube_paths)\n",
    "    \n",
    "    def __len__(self):\n",
    "        return len(self.labels)\n",
    "    \n",
    "    def __getitem__(self, i):\n",
    "        cube = np.load(self.cube_paths[i])\n",
    "        label = self.labels[i]\n",
    "        \n",
    "        slice_ = cube[:, :, np.random.randint(cube.shape[-1])]\n",
    "        img = Image.fromarray(slice_)\n",
    "        return torch.FloatTensor(self.transforms(img)), label"
   ]
  },
  {
   "cell_type": "code",
   "execution_count": 4,
   "metadata": {},
   "outputs": [],
   "source": [
    "dataset = OctDataset()"
   ]
  },
  {
   "cell_type": "code",
   "execution_count": 5,
   "metadata": {},
   "outputs": [],
   "source": [
    "loader = DataLoader(dataset, batch_size=8, shuffle=True, num_workers=8)"
   ]
  },
  {
   "cell_type": "code",
   "execution_count": 6,
   "metadata": {},
   "outputs": [
    {
     "name": "stdout",
     "output_type": "stream",
     "text": [
      "\n",
      "( 0 , 0 ,.,.) = \n",
      "  0.0863  0.1020  0.1059  ...   0.0824  0.1020  0.0784\n",
      "  0.0627  0.0667  0.0353  ...   0.0902  0.0980  0.0941\n",
      "  0.1333  0.1216  0.1255  ...   0.1216  0.1020  0.0784\n",
      "           ...             ⋱             ...          \n",
      "  0.0980  0.1137  0.0784  ...   0.0667  0.0667  0.1098\n",
      "  0.0941  0.0824  0.1255  ...   0.1137  0.0824  0.1020\n",
      "  0.0863  0.0784  0.0980  ...   0.0941  0.0784  0.0863\n",
      "      ⋮  \n",
      "\n",
      "( 1 , 0 ,.,.) = \n",
      "  0.0549  0.1098  0.1098  ...   0.0863  0.0863  0.0980\n",
      "  0.0235  0.0863  0.0863  ...   0.1176  0.0941  0.1137\n",
      "  0.0275  0.1098  0.0980  ...   0.1020  0.1137  0.1490\n",
      "           ...             ⋱             ...          \n",
      "  0.0196  0.1373  0.1294  ...   0.1020  0.0980  0.1333\n",
      "  0.0118  0.0941  0.0667  ...   0.0941  0.0902  0.0941\n",
      "  0.0235  0.0941  0.0980  ...   0.1020  0.1059  0.1412\n",
      "      ⋮  \n",
      "\n",
      "( 2 , 0 ,.,.) = \n",
      "  0.0000  0.0000  0.0000  ...   0.0824  0.0863  0.1137\n",
      "  0.0000  0.0000  0.0039  ...   0.0627  0.0706  0.1137\n",
      "  0.0000  0.0000  0.0039  ...   0.1255  0.0941  0.0667\n",
      "           ...             ⋱             ...          \n",
      "  0.0627  0.1059  0.1333  ...   0.0000  0.0000  0.0000\n",
      "  0.1059  0.0980  0.0667  ...   0.0000  0.0000  0.0000\n",
      "  0.0824  0.0980  0.0941  ...   0.0000  0.0000  0.0000\n",
      "...     \n",
      "      ⋮  \n",
      "\n",
      "( 5 , 0 ,.,.) = \n",
      "  0.0745  0.0784  0.0863  ...   0.1059  0.0902  0.0980\n",
      "  0.0980  0.0863  0.0863  ...   0.1059  0.1137  0.1059\n",
      "  0.0471  0.0745  0.0706  ...   0.1059  0.1020  0.1216\n",
      "           ...             ⋱             ...          \n",
      "  0.0745  0.1373  0.1137  ...   0.1294  0.0863  0.1451\n",
      "  0.0314  0.1020  0.0941  ...   0.1373  0.1451  0.1647\n",
      "  0.1020  0.1059  0.0980  ...   0.1843  0.1333  0.1725\n",
      "      ⋮  \n",
      "\n",
      "( 6 , 0 ,.,.) = \n",
      "  0.1490  0.1098  0.0824  ...   0.0824  0.0784  0.1451\n",
      "  0.0902  0.0510  0.1020  ...   0.0706  0.0667  0.1098\n",
      "  0.1137  0.0588  0.0784  ...   0.0863  0.0941  0.0980\n",
      "           ...             ⋱             ...          \n",
      "  0.0275  0.0431  0.0549  ...   0.0157  0.0000  0.0000\n",
      "  0.1020  0.0706  0.0980  ...   0.0078  0.0000  0.0000\n",
      "  0.1333  0.0941  0.1294  ...   0.0118  0.0000  0.0000\n",
      "      ⋮  \n",
      "\n",
      "( 7 , 0 ,.,.) = \n",
      "  0.0824  0.0784  0.0784  ...   0.1333  0.1059  0.1294\n",
      "  0.1765  0.1176  0.1176  ...   0.0706  0.1490  0.1255\n",
      "  0.0980  0.0902  0.1294  ...   0.1216  0.1176  0.0667\n",
      "           ...             ⋱             ...          \n",
      "  0.1020  0.1059  0.0902  ...   0.1059  0.0863  0.1059\n",
      "  0.1804  0.0902  0.0941  ...   0.0980  0.0941  0.0863\n",
      "  0.1137  0.1137  0.1137  ...   0.0980  0.0902  0.1137\n",
      "[torch.FloatTensor of size 8x1x200x200]\n",
      " \n",
      " 1\n",
      " 1\n",
      " 0\n",
      " 1\n",
      " 1\n",
      " 0\n",
      " 1\n",
      " 0\n",
      "[torch.LongTensor of size 8]\n",
      "\n"
     ]
    }
   ],
   "source": [
    "for img, label in loader:\n",
    "    print(img, label)\n",
    "    break"
   ]
  },
  {
   "cell_type": "code",
   "execution_count": null,
   "metadata": {},
   "outputs": [
    {
     "name": "stdout",
     "output_type": "stream",
     "text": [
      "Epoch 0\n"
     ]
    }
   ],
   "source": [
    "net = OctNet().cuda()\n",
    "\n",
    "for epoch in range(200):\n",
    "    print(f'Epoch {epoch}')\n",
    "    for X, y in loader:\n",
    "        y = y.float()\n",
    "        X_var = Variable(X, requires_grad=False).cuda()\n",
    "        y_var = Variable(y, requires_grad=False).cuda()\n",
    "        loss = net.train_step(X_var, y_var)\n",
    "        print(f'BCE loss = {loss.data[0]}')"
   ]
  },
  {
   "cell_type": "code",
   "execution_count": null,
   "metadata": {},
   "outputs": [],
   "source": []
  }
 ],
 "metadata": {
  "kernelspec": {
   "display_name": "Python 3",
   "language": "python",
   "name": "python3"
  },
  "language_info": {
   "codemirror_mode": {
    "name": "ipython",
    "version": 3
   },
   "file_extension": ".py",
   "mimetype": "text/x-python",
   "name": "python",
   "nbconvert_exporter": "python",
   "pygments_lexer": "ipython3",
   "version": "3.6.5"
  }
 },
 "nbformat": 4,
 "nbformat_minor": 2
}
