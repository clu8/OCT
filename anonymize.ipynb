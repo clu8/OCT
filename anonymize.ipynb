{
 "cells": [
  {
   "cell_type": "code",
   "execution_count": null,
   "metadata": {},
   "outputs": [],
   "source": [
    "import csv\n",
    "import glob\n",
    "import os\n",
    "import shutil\n",
    "\n",
    "from constants import *"
   ]
  },
  {
   "cell_type": "code",
   "execution_count": null,
   "metadata": {},
   "outputs": [],
   "source": [
    "# verify case (anonymized) and patient IDs are a one-to-one mapping\n",
    "# verify patient ID in each visit matches patient ID in parent folder name\n",
    "\n",
    "case_to_patient = {}\n",
    "patient_to_case = {}\n",
    "\n",
    "for label, top_dirs in [('pos', POS_DIRS), ('neg', NEG_DIRS)]:\n",
    "    for top_dir in top_dirs:\n",
    "        top_dir_path = os.path.join(RAW_DATA_PATH, top_dir)\n",
    "        print(label, top_dir_path)\n",
    "        for case_dir in os.listdir(top_dir_path):\n",
    "            case_dir_path = os.path.join(top_dir_path, case_dir)\n",
    "            print(case_dir)\n",
    "            \n",
    "            for visit_dir in os.listdir(case_dir_path):\n",
    "                visit_dir_path = os.path.join(case_dir_path, visit_dir)\n",
    "                *patient_id, date = visit_dir.split()\n",
    "                patient_id = ' '.join(patient_id)\n",
    "                print(patient_id)\n",
    "                if case_dir in case_to_patient:\n",
    "                    assert case_to_patient[case_dir] == patient_id\n",
    "                else:\n",
    "                    case_to_patient[case_dir] = patient_id\n",
    "                \n",
    "                if patient_id in patient_to_case:\n",
    "                    assert patient_to_case[patient_id] == case_dir\n",
    "                else:\n",
    "                    patient_to_case[patient_id] = case_dir\n",
    "                    \n",
    "                for file in os.listdir(visit_dir_path):\n",
    "                    patient_id_2, *rest = file.split('_')\n",
    "                    assert patient_id == patient_id_2"
   ]
  },
  {
   "cell_type": "code",
   "execution_count": null,
   "metadata": {},
   "outputs": [],
   "source": [
    "with open(os.path.join(RAW_DATA_PATH, anonymize_mapping_file), 'a') as f:\n",
    "    csvwriter = csv.writer(f)\n",
    "    for case, patient in case_to_patient.items():\n",
    "        assert patient_to_case[patient] == case\n",
    "        csvwriter.writerow([case, patient])"
   ]
  },
  {
   "cell_type": "code",
   "execution_count": null,
   "metadata": {},
   "outputs": [],
   "source": []
  }
 ],
 "metadata": {
  "kernelspec": {
   "display_name": "Python 3",
   "language": "python",
   "name": "python3"
  },
  "language_info": {
   "codemirror_mode": {
    "name": "ipython",
    "version": 3
   },
   "file_extension": ".py",
   "mimetype": "text/x-python",
   "name": "python",
   "nbconvert_exporter": "python",
   "pygments_lexer": "ipython3",
   "version": "3.6.5"
  }
 },
 "nbformat": 4,
 "nbformat_minor": 2
}
